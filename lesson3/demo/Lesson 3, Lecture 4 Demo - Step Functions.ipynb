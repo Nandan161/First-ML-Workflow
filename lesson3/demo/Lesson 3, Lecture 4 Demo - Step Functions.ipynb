{
 "cells": [
  {
   "cell_type": "markdown",
   "id": "ceb62ded",
   "metadata": {},
   "source": [
    "# UDACITY Demo - Step Functions"
   ]
  },
  {
   "cell_type": "code",
   "execution_count": 1,
   "id": "4238a462",
   "metadata": {},
   "outputs": [
    {
     "name": "stderr",
     "output_type": "stream",
     "text": [
      "/home/ec2-user/anaconda3/envs/python3/lib/python3.10/site-packages/pydantic/_internal/_fields.py:192: UserWarning: Field name \"json\" in \"MonitoringDatasetFormat\" shadows an attribute in parent \"Base\"\n",
      "  warnings.warn(\n"
     ]
    },
    {
     "data": {
      "text/html": [
       "<pre style=\"white-space:pre;overflow-x:auto;line-height:normal;font-family:Menlo,'DejaVu Sans Mono',consolas,'Courier New',monospace\"><span style=\"color: #7fbfbf; text-decoration-color: #7fbfbf\">[03/03/25 14:50:48] </span><span style=\"color: #0069ff; text-decoration-color: #0069ff; font-weight: bold\">INFO    </span> Found credentials from IAM Role:                                   <a href=\"file:///home/ec2-user/anaconda3/envs/python3/lib/python3.10/site-packages/botocore/credentials.py\" target=\"_blank\"><span style=\"color: #7f7f7f; text-decoration-color: #7f7f7f\">credentials.py</span></a><span style=\"color: #7f7f7f; text-decoration-color: #7f7f7f\">:</span><a href=\"file:///home/ec2-user/anaconda3/envs/python3/lib/python3.10/site-packages/botocore/credentials.py#1132\" target=\"_blank\"><span style=\"color: #7f7f7f; text-decoration-color: #7f7f7f\">1132</span></a>\n",
       "<span style=\"color: #7fbfbf; text-decoration-color: #7fbfbf\">                    </span>         BaseNotebookInstanceEc2InstanceRole                                <span style=\"color: #7f7f7f; text-decoration-color: #7f7f7f\">                   </span>\n",
       "</pre>\n"
      ],
      "text/plain": [
       "\u001b[2;36m[03/03/25 14:50:48]\u001b[0m\u001b[2;36m \u001b[0m\u001b[1;38;2;0;105;255mINFO    \u001b[0m Found credentials from IAM Role:                                   \u001b]8;id=276114;file:///home/ec2-user/anaconda3/envs/python3/lib/python3.10/site-packages/botocore/credentials.py\u001b\\\u001b[2mcredentials.py\u001b[0m\u001b]8;;\u001b\\\u001b[2m:\u001b[0m\u001b]8;id=517054;file:///home/ec2-user/anaconda3/envs/python3/lib/python3.10/site-packages/botocore/credentials.py#1132\u001b\\\u001b[2m1132\u001b[0m\u001b]8;;\u001b\\\n",
       "\u001b[2;36m                    \u001b[0m         BaseNotebookInstanceEc2InstanceRole                                \u001b[2m                   \u001b[0m\n"
      ]
     },
     "metadata": {},
     "output_type": "display_data"
    },
    {
     "name": "stdout",
     "output_type": "stream",
     "text": [
      "sagemaker.config INFO - Not applying SDK defaults from location: /etc/xdg/sagemaker/config.yaml\n",
      "sagemaker.config INFO - Not applying SDK defaults from location: /home/ec2-user/.config/sagemaker/config.yaml\n"
     ]
    },
    {
     "data": {
      "text/html": [
       "<pre style=\"white-space:pre;overflow-x:auto;line-height:normal;font-family:Menlo,'DejaVu Sans Mono',consolas,'Courier New',monospace\"><span style=\"color: #7fbfbf; text-decoration-color: #7fbfbf\">[03/03/25 14:50:53] </span><span style=\"color: #0069ff; text-decoration-color: #0069ff; font-weight: bold\">INFO    </span> Found credentials from IAM Role:                                   <a href=\"file:///home/ec2-user/anaconda3/envs/python3/lib/python3.10/site-packages/botocore/credentials.py\" target=\"_blank\"><span style=\"color: #7f7f7f; text-decoration-color: #7f7f7f\">credentials.py</span></a><span style=\"color: #7f7f7f; text-decoration-color: #7f7f7f\">:</span><a href=\"file:///home/ec2-user/anaconda3/envs/python3/lib/python3.10/site-packages/botocore/credentials.py#1132\" target=\"_blank\"><span style=\"color: #7f7f7f; text-decoration-color: #7f7f7f\">1132</span></a>\n",
       "<span style=\"color: #7fbfbf; text-decoration-color: #7fbfbf\">                    </span>         BaseNotebookInstanceEc2InstanceRole                                <span style=\"color: #7f7f7f; text-decoration-color: #7f7f7f\">                   </span>\n",
       "</pre>\n"
      ],
      "text/plain": [
       "\u001b[2;36m[03/03/25 14:50:53]\u001b[0m\u001b[2;36m \u001b[0m\u001b[1;38;2;0;105;255mINFO    \u001b[0m Found credentials from IAM Role:                                   \u001b]8;id=605355;file:///home/ec2-user/anaconda3/envs/python3/lib/python3.10/site-packages/botocore/credentials.py\u001b\\\u001b[2mcredentials.py\u001b[0m\u001b]8;;\u001b\\\u001b[2m:\u001b[0m\u001b]8;id=809225;file:///home/ec2-user/anaconda3/envs/python3/lib/python3.10/site-packages/botocore/credentials.py#1132\u001b\\\u001b[2m1132\u001b[0m\u001b]8;;\u001b\\\n",
       "\u001b[2;36m                    \u001b[0m         BaseNotebookInstanceEc2InstanceRole                                \u001b[2m                   \u001b[0m\n"
      ]
     },
     "metadata": {},
     "output_type": "display_data"
    }
   ],
   "source": [
    "import boto3\n",
    "from sagemaker import get_execution_role\n",
    "\n",
    "client = boto3.client('stepfunctions')\n",
    "\n",
    "# Definitions are unweildly and also not valid python objects. Consider also using the Step interface\n",
    "# for the services you wish to invoke, or just constructing a Step Function through the UI \n",
    "# and pasting the definition that is automatically generated. \n",
    "\n",
    "definition = \"\"\"{\n",
    "  \"Comment\": \"A Hello World example of the Amazon States Language.\",\n",
    "  \"StartAt\": \"Lambda Invoke (First)\", \n",
    "  \"States\": {\n",
    "    \"Lambda Invoke (First)\": {\n",
    "      \"Type\": \"Task\",\n",
    "      \"Resource\": \"arn:aws:states:::lambda:invoke\",\n",
    "      \"OutputPath\": \"$.Payload\",\n",
    "      \"Parameters\": {\n",
    "        \"Payload.$\": \"$\",\n",
    "        \"FunctionName\": \"arn:aws:lambda:us-east-1:620425758198:function:my-first-function-ajju:$LATEST\"\n",
    "      },\n",
    "      \"Retry\": [\n",
    "        {\n",
    "          \"ErrorEquals\": [\n",
    "            \"Lambda.ServiceException\",\n",
    "            \"Lambda.AWSLambdaException\",\n",
    "            \"Lambda.SdkClientException\"\n",
    "          ],\n",
    "          \"IntervalSeconds\": 2,\n",
    "          \"MaxAttempts\": 6,\n",
    "          \"BackoffRate\": 2\n",
    "        }\n",
    "      ],\n",
    "      \"Next\": \"Lambda Invoke (Second)\"\n",
    "    },\n",
    "    \"Lambda Invoke (Second)\": {\n",
    "      \"Type\": \"Task\",\n",
    "      \"Resource\": \"arn:aws:states:::lambda:invoke\",\n",
    "      \"OutputPath\": \"$.Payload\",\n",
    "      \"Parameters\": {\n",
    "        \"Payload.$\": \"$\",\n",
    "        \"FunctionName\": \"arn:aws:lambda:us-east-1:620425758198:function:my-first-function-ajju:$LATEST\"\n",
    "      },\n",
    "      \"Retry\": [\n",
    "        {\n",
    "          \"ErrorEquals\": [\n",
    "            \"Lambda.ServiceException\",\n",
    "            \"Lambda.AWSLambdaException\",\n",
    "            \"Lambda.SdkClientException\"\n",
    "          ],\n",
    "          \"IntervalSeconds\": 2,\n",
    "          \"MaxAttempts\": 6,\n",
    "          \"BackoffRate\": 2\n",
    "        }\n",
    "      ],\n",
    "      \"End\": true\n",
    "    }\n",
    "  }\n",
    "}\n",
    "\"\"\""
   ]
  },
  {
   "cell_type": "code",
   "execution_count": 6,
   "id": "825bb38c",
   "metadata": {},
   "outputs": [
    {
     "name": "stdout",
     "output_type": "stream",
     "text": [
      "{'stateMachineArn': 'arn:aws:states:us-east-1:620425758198:stateMachine:boto3StateMachine3', 'creationDate': datetime.datetime(2025, 3, 3, 15, 1, 31, 767000, tzinfo=tzlocal()), 'ResponseMetadata': {'RequestId': '668395bb-0e2f-417d-a437-72c5e810c893', 'HTTPStatusCode': 200, 'HTTPHeaders': {'x-amzn-requestid': '668395bb-0e2f-417d-a437-72c5e810c893', 'date': 'Mon, 03 Mar 2025 15:01:31 GMT', 'content-type': 'application/x-amz-json-1.0', 'content-length': '123', 'connection': 'keep-alive'}, 'RetryAttempts': 0}}\n"
     ]
    }
   ],
   "source": [
    "# Your SageMaker execution role needs to have both StepFunctions permission and IAM permission. This\n",
    "# is seperate from the role passed in through 'roleArn' (You need IAM permissions specifically because\n",
    "# you are handling other roles.) The roleArn that's passed into the state machine needs to have permissions\n",
    "# to the services it's invoking. In this case, these are Lambda permissions. \n",
    "\n",
    "response = client.create_state_machine(\n",
    "    name='boto3StateMachine3', # Names need to be unique. \n",
    "    definition=definition,\n",
    "    roleArn='arn:aws:iam::620425758198:role/service-role/StepFunctions-firstStateMachine-role-0826984a',\n",
    "    type='STANDARD',\n",
    "    loggingConfiguration={\n",
    "        'level': 'OFF'\n",
    "    }\n",
    ")\n",
    "print(response)"
   ]
  },
  {
   "cell_type": "code",
   "execution_count": 8,
   "id": "e9d45764",
   "metadata": {},
   "outputs": [],
   "source": [
    "response = client.start_execution(\n",
    "    stateMachineArn='arn:aws:states:us-east-1:620425758198:stateMachine:boto3StateMachine3', # You can find this through the Console or through the 'response' object. \n",
    "    name='example1', # Execution names need to be unique within state machines. \n",
    "    input='{}' # Input needs to be at least empty brackets. \n",
    ")"
   ]
  },
  {
   "cell_type": "code",
   "execution_count": 9,
   "id": "aab4cb98-9ac9-46c2-8271-1f4427efdaa8",
   "metadata": {},
   "outputs": [
    {
     "name": "stdout",
     "output_type": "stream",
     "text": [
      "{'executionArn': 'arn:aws:states:us-east-1:620425758198:execution:boto3StateMachine3:example1', 'startDate': datetime.datetime(2025, 3, 3, 15, 3, 17, 148000, tzinfo=tzlocal()), 'ResponseMetadata': {'RequestId': 'af642794-2e14-4f1d-9bed-efe1a1c46f9c', 'HTTPStatusCode': 200, 'HTTPHeaders': {'x-amzn-requestid': 'af642794-2e14-4f1d-9bed-efe1a1c46f9c', 'date': 'Mon, 03 Mar 2025 15:03:17 GMT', 'content-type': 'application/x-amz-json-1.0', 'content-length': '123', 'connection': 'keep-alive'}, 'RetryAttempts': 0}}\n"
     ]
    }
   ],
   "source": [
    "print(response)"
   ]
  },
  {
   "cell_type": "code",
   "execution_count": null,
   "id": "1e575209-009a-4fd8-bc76-c9e66a31f37e",
   "metadata": {},
   "outputs": [],
   "source": []
  }
 ],
 "metadata": {
  "kernelspec": {
   "display_name": "conda_python3",
   "language": "python",
   "name": "conda_python3"
  },
  "language_info": {
   "codemirror_mode": {
    "name": "ipython",
    "version": 3
   },
   "file_extension": ".py",
   "mimetype": "text/x-python",
   "name": "python",
   "nbconvert_exporter": "python",
   "pygments_lexer": "ipython3",
   "version": "3.10.16"
  }
 },
 "nbformat": 4,
 "nbformat_minor": 5
}
